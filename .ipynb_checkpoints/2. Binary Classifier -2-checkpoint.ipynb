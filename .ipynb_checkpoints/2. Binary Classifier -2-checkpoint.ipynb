{
 "cells": [
  {
   "cell_type": "code",
   "execution_count": 2,
   "metadata": {},
   "outputs": [],
   "source": [
    "import tensorflow.compat.v1 as tf\n",
    "tf.compat.v1.disable_eager_execution()\n",
    "import numpy as np \n",
    "import matplotlib.pyplot as plt\n",
    "from numpy.random import multivariate_normal, permutation\n",
    "import pandas as pd\n",
    "from pandas import DataFrame, Series"
   ]
  },
  {
   "cell_type": "code",
   "execution_count": 10,
   "metadata": {},
   "outputs": [],
   "source": [
    "np.random.seed(20160512)\n",
    "\n",
    "n0, mu0, variance0 = 800, [10, 11], 20 # 800개 데이터 생성\n",
    "data0 = multivariate_normal(mu0, np.eye(2)*variance0 ,n0) # multivariate_normal(중심좌표, variances, 데이터 갯수)\n",
    "df0 = DataFrame(data0, columns=['x','y'])\n",
    "df0['t'] = 0\n",
    "\n",
    "n1, mu1, variance1 = 600, [18, 20], 22\n",
    "data1 = multivariate_normal(mu1, np.eye(2)*variance1 ,n1)\n",
    "df1 = DataFrame(data1, columns=['x','y'])\n",
    "df1['t'] = 1\n",
    "\n",
    "df = pd.concat([df0, df1], ignore_index=True) #pd.concat()\n",
    "train_set = df.reindex(permutation(df.index)).reset_index(drop=True) #permutaion(array): array를 복사해서 셔플한다. np.random.shuffle([1,2,3,4,5]) ==> [3,2,4,5,1]\n",
    "\n",
    "\n",
    "num_data = int(len(df)*0.8)\n",
    "train_set = df[:num_data]\n",
    "test_set = df[num_data:]"
   ]
  },
  {
   "cell_type": "code",
   "execution_count": 24,
   "metadata": {},
   "outputs": [],
   "source": [
    "train_x = train_set[['x','y']].values\n",
    "train_t = train_set[['t']].values\n",
    "\n",
    "test_x = test_set[['x','y']].values\n",
    "test_t = test_set[['t']].values"
   ]
  },
  {
   "cell_type": "code",
   "execution_count": 18,
   "metadata": {},
   "outputs": [],
   "source": [
    "#그래프를 준비한다. \n",
    "X = tf.placeholder(tf.float32, shape=(None,2))\n",
    "Y = tf.placeholder(tf.float32, shape=(None,1))\n",
    "M = tf.Variable([[0.0], [0.0]])\n",
    "M0 = tf.Variable([[0.0]])\n",
    "Z = tf.matmul(X,M)+M0\n",
    "p = tf.sigmoid(Z)"
   ]
  },
  {
   "cell_type": "code",
   "execution_count": 21,
   "metadata": {},
   "outputs": [],
   "source": [
    "#오차함수를 준비한다. \n",
    "loss = - tf.reduce_sum(Y*tf.log(p)+(1-Y)*tf.log(1-p))"
   ]
  },
  {
   "cell_type": "code",
   "execution_count": 22,
   "metadata": {},
   "outputs": [],
   "source": [
    "#트레이닝 알고리즘을 정한다. \n",
    "train_one_step = tf.train.AdamOptimizer().minimize(loss)"
   ]
  },
  {
   "cell_type": "code",
   "execution_count": 23,
   "metadata": {},
   "outputs": [],
   "source": [
    "#중간중간 결과를 출력할 값을 정한다. \n",
    "# loss, accuracy \n",
    "accuracy = tf.reduce_mean(\n",
    "                tf.cast( \n",
    "                    tf.equal(\n",
    "                        tf.sign(p-0.5), \n",
    "                        tf.sign(Y-0.5))\n",
    "                    , tf.float32)\n",
    "            )"
   ]
  },
  {
   "cell_type": "code",
   "execution_count": 25,
   "metadata": {},
   "outputs": [],
   "source": [
    "train_accuracy = []\n",
    "test_accuracy = []\n",
    "sess = tf.Session()\n",
    "sess.run(tf.global_variables_initializer())\n",
    "for _ in range(2500):\n",
    "    sess.run(train_one_step, feed_dict = {X:train_x, Y:train_t})\n",
    "    acc_val = sess.run(accuracy, feed_dict = {X:train_x, Y:train_t})\n",
    "    train_accuracy.append(acc_val)\n",
    "    \n",
    "    acc_val = sess.run(accuracy, feed_dict = {X:test_x, Y:test_t})\n",
    "    test_accuracy.append(acc_val)\n",
    "    pass\n",
    "    "
   ]
  },
  {
   "cell_type": "code",
   "execution_count": 26,
   "metadata": {},
   "outputs": [],
   "source": [
    "#결과 그래프 생성 "
   ]
  },
  {
   "cell_type": "code",
   "execution_count": null,
   "metadata": {},
   "outputs": [],
   "source": []
  }
 ],
 "metadata": {
  "kernelspec": {
   "display_name": "Python 3",
   "language": "python",
   "name": "python3"
  },
  "language_info": {
   "codemirror_mode": {
    "name": "ipython",
    "version": 3
   },
   "file_extension": ".py",
   "mimetype": "text/x-python",
   "name": "python",
   "nbconvert_exporter": "python",
   "pygments_lexer": "ipython3",
   "version": "3.8.3"
  }
 },
 "nbformat": 4,
 "nbformat_minor": 4
}
