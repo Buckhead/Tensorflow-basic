{
 "cells": [
  {
   "cell_type": "markdown",
   "metadata": {},
   "source": [
    "CNN의 가장 마지막 단계인 SoftMax, LinearClassifier, Perceptron 부분을 먼저 구현한다. <br>\n",
    "참고로 이것은 성능이 좋지 못한데, 그래서 그 앞부분에 전 결합층, 드롭아웃 계층, 합성곱 .. 등이 추가된다. <br>\n",
    "이것은 다음에 업데이트 한다. "
   ]
  },
  {
   "cell_type": "markdown",
   "metadata": {},
   "source": [
    "**머신러닝 모델의 3단계**<br>\n",
    "1. 수식을 생각한다 - 주어진 데이터를 기반으로 미지의 데이터를 예측하는 수식을 생각한다. \n",
    "2. 오차함수를 준비한다. - 수식에 포함된 파라미터의 좋고 나쁨을 판단하는 오차 함수를 준비한다. \n",
    "3. 파라미터 값을 결정한다. - 오차 함수를 최소화할 수 있도록 파라미터의 값을 결정한다. "
   ]
  },
  {
   "cell_type": "markdown",
   "metadata": {},
   "source": [
    "텐서플로를 이용한 maximum likelihood estimation <br>"
   ]
  },
  {
   "cell_type": "code",
   "execution_count": 12,
   "metadata": {},
   "outputs": [],
   "source": [
    "import tensorflow.compat.v1 as tf\n",
    "tf.compat.v1.disable_eager_execution()\n",
    "import numpy as np \n",
    "import matplotlib.pyplot as plt\n",
    "from numpy.random import multivariate_normal, permutation\n",
    "import pandas as pd\n",
    "from pandas import DataFrame, Series"
   ]
  },
  {
   "cell_type": "markdown",
   "metadata": {},
   "source": [
    "트레이닝 세트 데이터를 준비한다. "
   ]
  },
  {
   "cell_type": "code",
   "execution_count": 2,
   "metadata": {},
   "outputs": [
    {
     "name": "stdout",
     "output_type": "stream",
     "text": [
      "(20, 3)\n",
      "(15, 3)\n",
      "(35, 3)\n"
     ]
    },
    {
     "data": {
      "text/html": [
       "<div>\n",
       "<style scoped>\n",
       "    .dataframe tbody tr th:only-of-type {\n",
       "        vertical-align: middle;\n",
       "    }\n",
       "\n",
       "    .dataframe tbody tr th {\n",
       "        vertical-align: top;\n",
       "    }\n",
       "\n",
       "    .dataframe thead th {\n",
       "        text-align: right;\n",
       "    }\n",
       "</style>\n",
       "<table border=\"1\" class=\"dataframe\">\n",
       "  <thead>\n",
       "    <tr style=\"text-align: right;\">\n",
       "      <th></th>\n",
       "      <th>x1</th>\n",
       "      <th>x2</th>\n",
       "      <th>t</th>\n",
       "    </tr>\n",
       "  </thead>\n",
       "  <tbody>\n",
       "    <tr>\n",
       "      <th>0</th>\n",
       "      <td>20.729880</td>\n",
       "      <td>18.209359</td>\n",
       "      <td>1</td>\n",
       "    </tr>\n",
       "    <tr>\n",
       "      <th>1</th>\n",
       "      <td>16.503919</td>\n",
       "      <td>14.685085</td>\n",
       "      <td>0</td>\n",
       "    </tr>\n",
       "    <tr>\n",
       "      <th>2</th>\n",
       "      <td>5.508661</td>\n",
       "      <td>17.426775</td>\n",
       "      <td>0</td>\n",
       "    </tr>\n",
       "    <tr>\n",
       "      <th>3</th>\n",
       "      <td>9.167047</td>\n",
       "      <td>9.178837</td>\n",
       "      <td>0</td>\n",
       "    </tr>\n",
       "    <tr>\n",
       "      <th>4</th>\n",
       "      <td>8.640423</td>\n",
       "      <td>9.561952</td>\n",
       "      <td>0</td>\n",
       "    </tr>\n",
       "    <tr>\n",
       "      <th>5</th>\n",
       "      <td>10.500988</td>\n",
       "      <td>17.002584</td>\n",
       "      <td>0</td>\n",
       "    </tr>\n",
       "    <tr>\n",
       "      <th>6</th>\n",
       "      <td>16.484766</td>\n",
       "      <td>22.232997</td>\n",
       "      <td>1</td>\n",
       "    </tr>\n",
       "    <tr>\n",
       "      <th>7</th>\n",
       "      <td>6.979059</td>\n",
       "      <td>8.180596</td>\n",
       "      <td>0</td>\n",
       "    </tr>\n",
       "    <tr>\n",
       "      <th>8</th>\n",
       "      <td>11.701339</td>\n",
       "      <td>0.996734</td>\n",
       "      <td>0</td>\n",
       "    </tr>\n",
       "    <tr>\n",
       "      <th>9</th>\n",
       "      <td>21.367990</td>\n",
       "      <td>18.712309</td>\n",
       "      <td>1</td>\n",
       "    </tr>\n",
       "  </tbody>\n",
       "</table>\n",
       "</div>"
      ],
      "text/plain": [
       "          x1         x2  t\n",
       "0  20.729880  18.209359  1\n",
       "1  16.503919  14.685085  0\n",
       "2   5.508661  17.426775  0\n",
       "3   9.167047   9.178837  0\n",
       "4   8.640423   9.561952  0\n",
       "5  10.500988  17.002584  0\n",
       "6  16.484766  22.232997  1\n",
       "7   6.979059   8.180596  0\n",
       "8  11.701339   0.996734  0\n",
       "9  21.367990  18.712309  1"
      ]
     },
     "execution_count": 2,
     "metadata": {},
     "output_type": "execute_result"
    }
   ],
   "source": [
    "np.random.seed(20160512)\n",
    "\n",
    "n0, mu0, variance0 = 20, [10, 11], 20\n",
    "data0 = multivariate_normal(mu0, np.eye(2)*variance0 ,n0) # multivariate_normal(중심좌표, variances, 데이터 갯수)\n",
    "df0 = DataFrame(data0, columns=['x1','x2'])\n",
    "df0['t'] = 0\n",
    "\n",
    "n1, mu1, variance1 = 15, [18, 20], 22\n",
    "data1 = multivariate_normal(mu1, np.eye(2)*variance1 ,n1)\n",
    "df1 = DataFrame(data1, columns=['x1','x2'])\n",
    "df1['t'] = 1\n",
    "\n",
    "df = pd.concat([df0, df1], ignore_index=True) #pd.concat()\n",
    "train_set = df.reindex(permutation(df.index)).reset_index(drop=True) #permutaion(array): array를 복사해서 셔플한다. np.random.shuffle([1,2,3,4,5]) ==> [3,2,4,5,1]\n",
    "                                                                     # dataframe.reindex(array): dataframe을 array를 이용하여 복사한다. \n",
    "    \n",
    "print(df0.shape)\n",
    "print(df1.shape)\n",
    "print(train_set.shape)\n",
    "train_set[:10]"
   ]
  },
  {
   "cell_type": "code",
   "execution_count": 3,
   "metadata": {},
   "outputs": [
    {
     "name": "stdout",
     "output_type": "stream",
     "text": [
      "(35, 2)\n"
     ]
    },
    {
     "data": {
      "text/plain": [
       "array([[20.72988036, 18.20935928],\n",
       "       [16.50391894, 14.68508536],\n",
       "       [ 5.50866102, 17.42677464],\n",
       "       [ 9.16704708,  9.17883747],\n",
       "       [ 8.6404225 ,  9.56195153]])"
      ]
     },
     "execution_count": 3,
     "metadata": {},
     "output_type": "execute_result"
    }
   ],
   "source": [
    "#훈련에 사용할 데이터셋object has 준비\n",
    "data = train_set[['x1','x2']].values\n",
    "print(data.shape)\n",
    "data[:5]"
   ]
  },
  {
   "cell_type": "code",
   "execution_count": 4,
   "metadata": {},
   "outputs": [
    {
     "name": "stdout",
     "output_type": "stream",
     "text": [
      "(35, 1)\n"
     ]
    },
    {
     "data": {
      "text/plain": [
       "array([[1],\n",
       "       [0],\n",
       "       [0],\n",
       "       [0],\n",
       "       [0],\n",
       "       [0],\n",
       "       [1],\n",
       "       [0],\n",
       "       [0],\n",
       "       [1]])"
      ]
     },
     "execution_count": 4,
     "metadata": {},
     "output_type": "execute_result"
    }
   ],
   "source": [
    "data_t = train_set[['t']].values\n",
    "print(data_t.shape)\n",
    "data_t[:10]"
   ]
  },
  {
   "cell_type": "code",
   "execution_count": 5,
   "metadata": {},
   "outputs": [],
   "source": [
    "#그래프를 준비한다. \n",
    "X = tf.placeholder(tf.float32, shape=(None,2))\n",
    "Y = tf.placeholder(tf.float32, shape=(None,1))\n",
    "M = tf.Variable([[0.0], [0.0]])\n",
    "M0 = tf.Variable([[0.0]])\n",
    "Z = tf.matmul(X,M)+M0\n",
    "p = tf.sigmoid(Z)"
   ]
  },
  {
   "cell_type": "code",
   "execution_count": 6,
   "metadata": {},
   "outputs": [],
   "source": [
    "#오차함수를 준비한다. \n",
    "loss = - tf.reduce_sum(Y*tf.log(p)+(1-Y)*tf.log(1-p))"
   ]
  },
  {
   "cell_type": "code",
   "execution_count": 7,
   "metadata": {},
   "outputs": [],
   "source": [
    "#트레이닝 알고리즘을 정한다. \n",
    "train_one_step = tf.train.AdamOptimizer().minimize(loss)"
   ]
  },
  {
   "cell_type": "code",
   "execution_count": 8,
   "metadata": {},
   "outputs": [],
   "source": [
    "#중간중간 결과를 출력할 값을 정한다. \n",
    "# loss, accuracy \n",
    "accuracy = tf.reduce_mean(\n",
    "                tf.cast( \n",
    "                    tf.equal(\n",
    "                        tf.sign(p-0.5), \n",
    "                        tf.sign(Y-0.5))\n",
    "                    , tf.float32)\n",
    "            )"
   ]
  },
  {
   "cell_type": "code",
   "execution_count": 9,
   "metadata": {},
   "outputs": [
    {
     "name": "stdout",
     "output_type": "stream",
     "text": [
      "loss:24.15797233581543  acc_value:0.4285714328289032\n",
      "loss:15.162978172302246  acc_value:0.8857142925262451\n",
      "loss:10.770998001098633  acc_value:0.9142857193946838\n",
      "loss:8.196752548217773  acc_value:0.9714285731315613\n",
      "loss:6.575472831726074  acc_value:0.9714285731315613\n",
      "loss:5.511539936065674  acc_value:0.9428571462631226\n",
      "loss:4.797740936279297  acc_value:0.9428571462631226\n",
      "loss:4.31400203704834  acc_value:0.9428571462631226\n",
      "loss:3.9861483573913574  acc_value:0.9428571462631226\n",
      "loss:3.766432285308838  acc_value:0.9428571462631226\n"
     ]
    }
   ],
   "source": [
    "#Session 생성, 트레이닝object has\n",
    "sess = tf.Session()\n",
    "sess.run(tf.global_variables_initializer())\n",
    "\n",
    "for i in range(20000):\n",
    "    sess.run(train_one_step, feed_dict={X:data, Y:data_t})\n",
    "    if i%2000 ==0:\n",
    "        [loss_value, acc_value]= sess.run([loss, accuracy], feed_dict={X:data, Y:data_t})\n",
    "        #print(\"i={}\".format(i))\n",
    "        print(\"loss:{}  acc_value:{}\".format(loss_value, acc_value))"
   ]
  },
  {
   "cell_type": "code",
   "execution_count": 10,
   "metadata": {},
   "outputs": [],
   "source": [
    "# # 그래프로 결과를 그린다. \n",
    "# train_set_0 = train_set[train_set.t==0]\n",
    "# train_set_1 = train_set[train_set.t==1]\n",
    "# fig = plt.figure(figsize=(6,6))\n",
    "# subplot = fig.add_subplot(1,1,1)\n",
    "# subplot.set_xlim([0,30])\n",
    "# subplot.set_ylim([0,30])\n",
    "# subplot.scatter(train_set_1.x1, train_set_1.x2, marker='x')\n",
    "# subplot.scatter(train_set_0.x1, train_set_0.x2, marker='o')\n",
    "\n",
    "# linex = np.linspace(0,30,10)"
   ]
  },
  {
   "cell_type": "code",
   "execution_count": 11,
   "metadata": {},
   "outputs": [],
   "source": [
    "#테스트 세트를 이용한 검증 \n"
   ]
  }
 ],
 "metadata": {
  "kernelspec": {
   "display_name": "Python 3",
   "language": "python",
   "name": "python3"
  },
  "language_info": {
   "codemirror_mode": {
    "name": "ipython",
    "version": 3
   },
   "file_extension": ".py",
   "mimetype": "text/x-python",
   "name": "python",
   "nbconvert_exporter": "python",
   "pygments_lexer": "ipython3",
   "version": "3.8.3"
  }
 },
 "nbformat": 4,
 "nbformat_minor": 4
}
